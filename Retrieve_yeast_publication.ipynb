{
  "nbformat": 4,
  "nbformat_minor": 0,
  "metadata": {
    "kernelspec": {
      "display_name": "Python 3",
      "language": "python",
      "name": "python3"
    },
    "language_info": {
      "codemirror_mode": {
        "name": "ipython",
        "version": 3
      },
      "file_extension": ".py",
      "mimetype": "text/x-python",
      "name": "python",
      "nbconvert_exporter": "python",
      "pygments_lexer": "ipython3",
      "version": "3.6.3"
    },
    "colab": {
      "name": "Retrieve_yeast_publication-Copy1.ipynb",
      "version": "0.3.2",
      "provenance": []
    }
  },
  "cells": [
    {
      "cell_type": "markdown",
      "metadata": {
        "id": "JoN7Luewldh-",
        "colab_type": "text"
      },
      "source": [
        "21 July 2019\n",
        "Mapping the number of papers that could be added to UniProt.\n",
        "\n",
        "Example 1 - human nucleoporins. \n",
        "\n",
        "The list was compiled as part of the preparation for Biocuration 2019 and it is mix of analysis from the literature and blast searches.\n",
        "\n",
        "The code allows to retrieve information from UniProtKB in tabular form and compared it with information in PubTator. This allows to identify publications with mentions of the gene of interest.\n"
      ]
    },
    {
      "cell_type": "code",
      "metadata": {
        "id": "2otsTwyxldh_",
        "colab_type": "code",
        "colab": {}
      },
      "source": [
        "list =['Pom152','Pom34','Ndc1nNup192','Nup188','Nup170','Nup157','Nup53','Nup59','Nup133','Nup120','Nup145C','Nup85','Nup84','Seh1','Sec13','Nic96','Nup57','Nup49','Nsp1','Nup82','Nup159','Dyn2','Gle1','Nup42','Gle2','Nup116','Nup100','Nup145N','Nup60','Nup1','Mlp1','MIp2']"
      ],
      "execution_count": 0,
      "outputs": []
    },
    {
      "cell_type": "code",
      "metadata": {
        "id": "RImax2I2ldiC",
        "colab_type": "code",
        "colab": {},
        "outputId": "bb4c8a5b-7cc5-4641-afd3-7ed53e4753bc"
      },
      "source": [
        "list[1]\n"
      ],
      "execution_count": 0,
      "outputs": [
        {
          "output_type": "execute_result",
          "data": {
            "text/plain": [
              "'Pom34'"
            ]
          },
          "metadata": {
            "tags": []
          },
          "execution_count": 26
        }
      ]
    },
    {
      "cell_type": "code",
      "metadata": {
        "id": "GC8MQD7OldiG",
        "colab_type": "code",
        "colab": {}
      },
      "source": [
        "import requests, sys\n",
        "for element in list:\n",
        "    #print(element)\n",
        "    url = 'https://www.uniprot.org/uniprot/?query=gene%3A' + element + '+taxonomy%3A%22Saccharomyces+cerevisiae+%28strain+ATCC+204508+%2F+S288c%29+%28Baker%27s+yeast%29+%5B559292%5D%22+reviewed%3Ayes&sort=score&fil=&format=tab&columns=id,database(GeneID),citation,citationmapping'    \n",
        "    r = requests.get(url) \n",
        "        #name = print(gene + '_retrieved.tab')\n",
        "    with open('retrieved_yeast.tab', 'a') as outfile:\n",
        "        outfile.write(r.text)"
      ],
      "execution_count": 0,
      "outputs": []
    },
    {
      "cell_type": "code",
      "metadata": {
        "id": "qXTC6ZYHldiI",
        "colab_type": "code",
        "colab": {},
        "outputId": "7b2fbcaa-8f49-4101-9c9b-21f257848719"
      },
      "source": [
        "import pandas as pd\n",
        "\n",
        "df = pd.read_csv('retrieved_yeast.tab', \n",
        "                    sep='\\t',\n",
        "                    header=None,\n",
        "                    names=['id', 'geneid', 'pmid', 'sp_pmid'],\n",
        "                    converters={'geneid': lambda x: x.strip(';'), 'pmid': lambda x: x.split('; '), 'sp_pmid': lambda x: x.split('; ')})\n",
        "df.head()\n"
      ],
      "execution_count": 0,
      "outputs": [
        {
          "output_type": "execute_result",
          "data": {
            "text/html": [
              "<div>\n",
              "<style>\n",
              "    .dataframe thead tr:only-child th {\n",
              "        text-align: right;\n",
              "    }\n",
              "\n",
              "    .dataframe thead th {\n",
              "        text-align: left;\n",
              "    }\n",
              "\n",
              "    .dataframe tbody tr th {\n",
              "        vertical-align: top;\n",
              "    }\n",
              "</style>\n",
              "<table border=\"1\" class=\"dataframe\">\n",
              "  <thead>\n",
              "    <tr style=\"text-align: right;\">\n",
              "      <th></th>\n",
              "      <th>id</th>\n",
              "      <th>geneid</th>\n",
              "      <th>pmid</th>\n",
              "      <th>sp_pmid</th>\n",
              "    </tr>\n",
              "  </thead>\n",
              "  <tbody>\n",
              "    <tr>\n",
              "      <th>0</th>\n",
              "      <td>Entry</td>\n",
              "      <td>Cross-reference (GeneID)</td>\n",
              "      <td>[PubMed ID]</td>\n",
              "      <td>[Mapped PubMed ID]</td>\n",
              "    </tr>\n",
              "    <tr>\n",
              "      <th>1</th>\n",
              "      <td>P39685</td>\n",
              "      <td>855159</td>\n",
              "      <td>[8138573, 9169872, 24374639, 8682855, 9988776,...</td>\n",
              "      <td>[8138573, 9169872, 24374639, 8682855, 9988776,...</td>\n",
              "    </tr>\n",
              "    <tr>\n",
              "      <th>2</th>\n",
              "      <td>Entry</td>\n",
              "      <td>Cross-reference (GeneID)</td>\n",
              "      <td>[PubMed ID]</td>\n",
              "      <td>[Mapped PubMed ID]</td>\n",
              "    </tr>\n",
              "    <tr>\n",
              "      <th>3</th>\n",
              "      <td>Q12445</td>\n",
              "      <td>850705</td>\n",
              "      <td>[9169871, 24374639, 17322287, 10684247, 127912...</td>\n",
              "      <td>[9169871, 24374639, 17322287, 10684247, 127912...</td>\n",
              "    </tr>\n",
              "    <tr>\n",
              "      <th>4</th>\n",
              "      <td>Entry</td>\n",
              "      <td>Cross-reference (GeneID)</td>\n",
              "      <td>[PubMed ID]</td>\n",
              "      <td>[Mapped PubMed ID]</td>\n",
              "    </tr>\n",
              "  </tbody>\n",
              "</table>\n",
              "</div>"
            ],
            "text/plain": [
              "       id                    geneid  \\\n",
              "0   Entry  Cross-reference (GeneID)   \n",
              "1  P39685                    855159   \n",
              "2   Entry  Cross-reference (GeneID)   \n",
              "3  Q12445                    850705   \n",
              "4   Entry  Cross-reference (GeneID)   \n",
              "\n",
              "                                                pmid  \\\n",
              "0                                        [PubMed ID]   \n",
              "1  [8138573, 9169872, 24374639, 8682855, 9988776,...   \n",
              "2                                        [PubMed ID]   \n",
              "3  [9169871, 24374639, 17322287, 10684247, 127912...   \n",
              "4                                        [PubMed ID]   \n",
              "\n",
              "                                             sp_pmid  \n",
              "0                                 [Mapped PubMed ID]  \n",
              "1  [8138573, 9169872, 24374639, 8682855, 9988776,...  \n",
              "2                                 [Mapped PubMed ID]  \n",
              "3  [9169871, 24374639, 17322287, 10684247, 127912...  \n",
              "4                                 [Mapped PubMed ID]  "
            ]
          },
          "metadata": {
            "tags": []
          },
          "execution_count": 29
        }
      ]
    },
    {
      "cell_type": "code",
      "metadata": {
        "id": "IxQwMlflldiK",
        "colab_type": "code",
        "colab": {},
        "outputId": "3921e162-28b7-478b-befc-590d3da38c7e"
      },
      "source": [
        "#a = df.iloc[1::2]\n",
        "a = df[~df['id'].isin(['Entry'])]\n",
        "a.head()"
      ],
      "execution_count": 0,
      "outputs": [
        {
          "output_type": "execute_result",
          "data": {
            "text/html": [
              "<div>\n",
              "<style>\n",
              "    .dataframe thead tr:only-child th {\n",
              "        text-align: right;\n",
              "    }\n",
              "\n",
              "    .dataframe thead th {\n",
              "        text-align: left;\n",
              "    }\n",
              "\n",
              "    .dataframe tbody tr th {\n",
              "        vertical-align: top;\n",
              "    }\n",
              "</style>\n",
              "<table border=\"1\" class=\"dataframe\">\n",
              "  <thead>\n",
              "    <tr style=\"text-align: right;\">\n",
              "      <th></th>\n",
              "      <th>id</th>\n",
              "      <th>geneid</th>\n",
              "      <th>pmid</th>\n",
              "      <th>sp_pmid</th>\n",
              "    </tr>\n",
              "  </thead>\n",
              "  <tbody>\n",
              "    <tr>\n",
              "      <th>1</th>\n",
              "      <td>P39685</td>\n",
              "      <td>855159</td>\n",
              "      <td>[8138573, 9169872, 24374639, 8682855, 9988776,...</td>\n",
              "      <td>[8138573, 9169872, 24374639, 8682855, 9988776,...</td>\n",
              "    </tr>\n",
              "    <tr>\n",
              "      <th>3</th>\n",
              "      <td>Q12445</td>\n",
              "      <td>850705</td>\n",
              "      <td>[9169871, 24374639, 17322287, 10684247, 127912...</td>\n",
              "      <td>[9169871, 24374639, 17322287, 10684247, 127912...</td>\n",
              "    </tr>\n",
              "    <tr>\n",
              "      <th>5</th>\n",
              "      <td>P52593</td>\n",
              "      <td>854868</td>\n",
              "      <td>[8682854, 8682855, 9169872, 24374639, 8522578,...</td>\n",
              "      <td>[8682854, 8682855, 9169872, 24374639, 8522578,...</td>\n",
              "    </tr>\n",
              "    <tr>\n",
              "      <th>7</th>\n",
              "      <td>P38181</td>\n",
              "      <td>852199</td>\n",
              "      <td>[7502586, 7813418, 24374639, 8522578, 9864357,...</td>\n",
              "      <td>[7502586, 7813418, 24374639, 8522578, 9864357,...</td>\n",
              "    </tr>\n",
              "    <tr>\n",
              "      <th>9</th>\n",
              "      <td>P40064</td>\n",
              "      <td>856842</td>\n",
              "      <td>[9169868, 24374639, 8522578, 10684247, 1247368...</td>\n",
              "      <td>[9169868, 24374639, 8522578, 10684247, 1247368...</td>\n",
              "    </tr>\n",
              "  </tbody>\n",
              "</table>\n",
              "</div>"
            ],
            "text/plain": [
              "       id  geneid                                               pmid  \\\n",
              "1  P39685  855159  [8138573, 9169872, 24374639, 8682855, 9988776,...   \n",
              "3  Q12445  850705  [9169871, 24374639, 17322287, 10684247, 127912...   \n",
              "5  P52593  854868  [8682854, 8682855, 9169872, 24374639, 8522578,...   \n",
              "7  P38181  852199  [7502586, 7813418, 24374639, 8522578, 9864357,...   \n",
              "9  P40064  856842  [9169868, 24374639, 8522578, 10684247, 1247368...   \n",
              "\n",
              "                                             sp_pmid  \n",
              "1  [8138573, 9169872, 24374639, 8682855, 9988776,...  \n",
              "3  [9169871, 24374639, 17322287, 10684247, 127912...  \n",
              "5  [8682854, 8682855, 9169872, 24374639, 8522578,...  \n",
              "7  [7502586, 7813418, 24374639, 8522578, 9864357,...  \n",
              "9  [9169868, 24374639, 8522578, 10684247, 1247368...  "
            ]
          },
          "metadata": {
            "tags": []
          },
          "execution_count": 30
        }
      ]
    },
    {
      "cell_type": "code",
      "metadata": {
        "id": "lUV5bGpgldiM",
        "colab_type": "code",
        "colab": {},
        "outputId": "a07f6912-5545-4f61-c762-b34623cf6da8"
      },
      "source": [
        "a.tail"
      ],
      "execution_count": 0,
      "outputs": [
        {
          "output_type": "execute_result",
          "data": {
            "text/plain": [
              "<bound method NDFrame.tail of         id  geneid                                               pmid  \\\n",
              "1   P39685  855159  [8138573, 9169872, 24374639, 8682855, 9988776,...   \n",
              "3   Q12445  850705  [9169871, 24374639, 17322287, 10684247, 127912...   \n",
              "5   P52593  854868  [8682854, 8682855, 9169872, 24374639, 8522578,...   \n",
              "7   P38181  852199  [7502586, 7813418, 24374639, 8522578, 9864357,...   \n",
              "9   P40064  856842  [9169868, 24374639, 8522578, 10684247, 1247368...   \n",
              "11  Q03790  855184  [9169872, 24374639, 9864357, 10684247, 1135293...   \n",
              "13  Q05166  851470  [7862092, 8923743, 9169867, 24374639, 17322287...   \n",
              "15  P36161  853957  [7813444, 8203164, 8196765, 24374639, 7862658,...   \n",
              "17  P35729  853808  [8091862, 8196765, 24374639, 8557736, 8557737,...   \n",
              "19  P46673  853499  [8816998, 8565072, 7668047, 8641269, 24374639,...   \n",
              "21  P52891  851441  [8565072, 9169867, 24374639, 10684247, 1182343...   \n",
              "23  P53011  852778  [8565072, 9169869, 24374639, 17322287, 1068424...   \n",
              "25  Q04491  850905  [8432727, 9169871, 24374639, 8565072, 6996832,...   \n",
              "27  P34077  850552  [7688296, 7670463, 24374639, 8789262, 8522578,...   \n",
              "29  P48837  853016  [7828598, 9169869, 24374639, 17322287, 9046098...   \n",
              "31  Q02199  852703  [1464327, 1385442, 8619317, 9169869, 24374639,...   \n",
              "33  P14907  853409  [3072197, 8641269, 24374639, 2112428, 9017593,...   \n",
              "34  P14306  850875  [2693892, 1745232, 9169871, 24374639, 9521655,...   \n",
              "36  P40368  853385  [7559751, 7559750, 8641269, 24374639, 7762302,...   \n",
              "38  P40477  854691  [7744966, 9169870, 24374639, 9736720, 9843582,...   \n",
              "40  Q02647  852034             [8628245, 9169867, 24374639, 14562106]   \n",
              "42  Q12315  851320  [8848052, 9046097, 9169867, 24374639, 10610322...   \n",
              "44  P49686  851774  [7634338, 9169867, 24374639, 17322287, 1061032...   \n",
              "46  P40066  856844  [9169868, 24374639, 17322287, 8970155, 9463388...   \n",
              "48  Q02630  855066  [1385442, 1464327, 9169872, 24374639, 8044840,...   \n",
              "50  Q02629  853796  [1385442, 8091863, 8196765, 24374639, 8044840,...   \n",
              "52  P39705  851263  [7941740, 7731988, 24374639, 17322287, 1068424...   \n",
              "54  P20676  854265  [2190694, 9200815, 9169874, 24374639, 10525531...   \n",
              "56  Q02455  853970  [8483450, 8154186, 8196765, 24374639, 10085285...   \n",
              "57  P36005  853696  [8091859, 8196765, 24374639, 9111331, 11062466...   \n",
              "\n",
              "                                              sp_pmid  \n",
              "1   [8138573, 9169872, 24374639, 8682855, 9988776,...  \n",
              "3   [9169871, 24374639, 17322287, 10684247, 127912...  \n",
              "5   [8682854, 8682855, 9169872, 24374639, 8522578,...  \n",
              "7   [7502586, 7813418, 24374639, 8522578, 9864357,...  \n",
              "9   [9169868, 24374639, 8522578, 10684247, 1247368...  \n",
              "11  [9169872, 24374639, 9864357, 10684247, 1135293...  \n",
              "13  [7862092, 8923743, 9169867, 24374639, 17322287...  \n",
              "15  [7813444, 8203164, 8196765, 24374639, 7862658,...  \n",
              "17  [8091862, 8196765, 24374639, 8557736, 8557737,...  \n",
              "19  [8816998, 8565072, 7668047, 8641269, 24374639,...  \n",
              "21  [8565072, 9169867, 24374639, 10684247, 1182343...  \n",
              "23  [8565072, 9169869, 24374639, 17322287, 1068424...  \n",
              "25  [8432727, 9169871, 24374639, 8565072, 6996832,...  \n",
              "27  [7688296, 7670463, 24374639, 8789262, 8522578,...  \n",
              "29  [7828598, 9169869, 24374639, 17322287, 9046098...  \n",
              "31  [1464327, 1385442, 8619317, 9169869, 24374639,...  \n",
              "33  [3072197, 8641269, 24374639, 2112428, 9017593,...  \n",
              "34  [2693892, 1745232, 9169871, 24374639, 9521655,...  \n",
              "36  [7559751, 7559750, 8641269, 24374639, 7762302,...  \n",
              "38  [7744966, 9169870, 24374639, 9736720, 9843582,...  \n",
              "40  [8628245, 9169867, 24374639, 14562106, 1108203...  \n",
              "42  [8848052, 9046097, 9169867, 24374639, 10610322...  \n",
              "44  [7634338, 9169867, 24374639, 17322287, 1061032...  \n",
              "46  [9169868, 24374639, 17322287, 8970155, 9463388...  \n",
              "48  [1385442, 1464327, 9169872, 24374639, 8044840,...  \n",
              "50  [1385442, 8091863, 8196765, 24374639, 8044840,...  \n",
              "52  [7941740, 7731988, 24374639, 17322287, 1068424...  \n",
              "54  [2190694, 9200815, 9169874, 24374639, 10525531...  \n",
              "56  [8483450, 8154186, 8196765, 24374639, 10085285...  \n",
              "57  [8091859, 8196765, 24374639, 9111331, 11062466...  >"
            ]
          },
          "metadata": {
            "tags": []
          },
          "execution_count": 31
        }
      ]
    },
    {
      "cell_type": "code",
      "metadata": {
        "id": "TiVqok2GldiO",
        "colab_type": "code",
        "colab": {},
        "outputId": "b7b5f3ac-352e-46a5-b4ee-57b83af9ffad"
      },
      "source": [
        "import pandas as pd\n",
        "pubtator = pd.read_csv('gene2pubtator',\n",
        "                        sep='\\t',\n",
        "                        header=0,\n",
        "                        names=['pubtator_pmid', 'geneid', 'mentions', 'source'],\n",
        "                        usecols=['pubtator_pmid', 'geneid', 'mentions'],\n",
        "                        dtype=str)\n",
        "\n",
        "pubtator.head()"
      ],
      "execution_count": 0,
      "outputs": [
        {
          "output_type": "execute_result",
          "data": {
            "text/html": [
              "<div>\n",
              "<style>\n",
              "    .dataframe thead tr:only-child th {\n",
              "        text-align: right;\n",
              "    }\n",
              "\n",
              "    .dataframe thead th {\n",
              "        text-align: left;\n",
              "    }\n",
              "\n",
              "    .dataframe tbody tr th {\n",
              "        vertical-align: top;\n",
              "    }\n",
              "</style>\n",
              "<table border=\"1\" class=\"dataframe\">\n",
              "  <thead>\n",
              "    <tr style=\"text-align: right;\">\n",
              "      <th></th>\n",
              "      <th>pubtator_pmid</th>\n",
              "      <th>geneid</th>\n",
              "      <th>mentions</th>\n",
              "    </tr>\n",
              "  </thead>\n",
              "  <tbody>\n",
              "    <tr>\n",
              "      <th>0</th>\n",
              "      <td>1000011</td>\n",
              "      <td>7356</td>\n",
              "      <td>blastokinin|uteroglobin</td>\n",
              "    </tr>\n",
              "    <tr>\n",
              "      <th>1</th>\n",
              "      <td>1000045</td>\n",
              "      <td>2006</td>\n",
              "      <td>tropoelastin</td>\n",
              "    </tr>\n",
              "    <tr>\n",
              "      <th>2</th>\n",
              "      <td>1000084</td>\n",
              "      <td>7018</td>\n",
              "      <td>transferrin</td>\n",
              "    </tr>\n",
              "    <tr>\n",
              "      <th>3</th>\n",
              "      <td>1000327</td>\n",
              "      <td>4199</td>\n",
              "      <td>malate dehydrogenase</td>\n",
              "    </tr>\n",
              "    <tr>\n",
              "      <th>4</th>\n",
              "      <td>10021369</td>\n",
              "      <td>10297</td>\n",
              "      <td>APC2</td>\n",
              "    </tr>\n",
              "  </tbody>\n",
              "</table>\n",
              "</div>"
            ],
            "text/plain": [
              "  pubtator_pmid geneid                 mentions\n",
              "0       1000011   7356  blastokinin|uteroglobin\n",
              "1       1000045   2006             tropoelastin\n",
              "2       1000084   7018              transferrin\n",
              "3       1000327   4199     malate dehydrogenase\n",
              "4      10021369  10297                     APC2"
            ]
          },
          "metadata": {
            "tags": []
          },
          "execution_count": 32
        }
      ]
    },
    {
      "cell_type": "code",
      "metadata": {
        "id": "RyCrQm6dldiQ",
        "colab_type": "code",
        "colab": {}
      },
      "source": [
        ""
      ],
      "execution_count": 0,
      "outputs": []
    },
    {
      "cell_type": "code",
      "metadata": {
        "id": "33HMCyL5ldiS",
        "colab_type": "code",
        "colab": {}
      },
      "source": [
        "count = pubtator['geneid'].str.contains('8655', na=False).sum()\n"
      ],
      "execution_count": 0,
      "outputs": []
    },
    {
      "cell_type": "code",
      "metadata": {
        "id": "UWI4RORcldiU",
        "colab_type": "code",
        "colab": {},
        "outputId": "0bbeefcd-f205-4181-d408-515fd62fdc70"
      },
      "source": [
        "count"
      ],
      "execution_count": 0,
      "outputs": [
        {
          "output_type": "execute_result",
          "data": {
            "text/plain": [
              "1638"
            ]
          },
          "metadata": {
            "tags": []
          },
          "execution_count": 34
        }
      ]
    },
    {
      "cell_type": "code",
      "metadata": {
        "id": "PkFpTOIoldiX",
        "colab_type": "code",
        "colab": {}
      },
      "source": [
        "merged = a.merge(pubtator, on='geneid')\n"
      ],
      "execution_count": 0,
      "outputs": []
    },
    {
      "cell_type": "code",
      "metadata": {
        "id": "C6zqqap1ldia",
        "colab_type": "code",
        "colab": {},
        "outputId": "f20547ee-0235-41cb-dffd-6825f2936078"
      },
      "source": [
        "merged.head()"
      ],
      "execution_count": 0,
      "outputs": [
        {
          "output_type": "execute_result",
          "data": {
            "text/html": [
              "<div>\n",
              "<style>\n",
              "    .dataframe thead tr:only-child th {\n",
              "        text-align: right;\n",
              "    }\n",
              "\n",
              "    .dataframe thead th {\n",
              "        text-align: left;\n",
              "    }\n",
              "\n",
              "    .dataframe tbody tr th {\n",
              "        vertical-align: top;\n",
              "    }\n",
              "</style>\n",
              "<table border=\"1\" class=\"dataframe\">\n",
              "  <thead>\n",
              "    <tr style=\"text-align: right;\">\n",
              "      <th></th>\n",
              "      <th>id</th>\n",
              "      <th>geneid</th>\n",
              "      <th>pmid</th>\n",
              "      <th>sp_pmid</th>\n",
              "      <th>pubtator_pmid</th>\n",
              "      <th>mentions</th>\n",
              "    </tr>\n",
              "  </thead>\n",
              "  <tbody>\n",
              "    <tr>\n",
              "      <th>0</th>\n",
              "      <td>P39685</td>\n",
              "      <td>855159</td>\n",
              "      <td>[8138573, 9169872, 24374639, 8682855, 9988776,...</td>\n",
              "      <td>[8138573, 9169872, 24374639, 8682855, 9988776,...</td>\n",
              "      <td>16118201</td>\n",
              "      <td>Pom152p|pom152</td>\n",
              "    </tr>\n",
              "    <tr>\n",
              "      <th>1</th>\n",
              "      <td>P39685</td>\n",
              "      <td>855159</td>\n",
              "      <td>[8138573, 9169872, 24374639, 8682855, 9988776,...</td>\n",
              "      <td>[8138573, 9169872, 24374639, 8682855, 9988776,...</td>\n",
              "      <td>16682526</td>\n",
              "      <td>Pom152p</td>\n",
              "    </tr>\n",
              "    <tr>\n",
              "      <th>2</th>\n",
              "      <td>P39685</td>\n",
              "      <td>855159</td>\n",
              "      <td>[8138573, 9169872, 24374639, 8682855, 9988776,...</td>\n",
              "      <td>[8138573, 9169872, 24374639, 8682855, 9988776,...</td>\n",
              "      <td>26510791</td>\n",
              "      <td>POM152|Pom152</td>\n",
              "    </tr>\n",
              "    <tr>\n",
              "      <th>3</th>\n",
              "      <td>P39685</td>\n",
              "      <td>855159</td>\n",
              "      <td>[8138573, 9169872, 24374639, 8682855, 9988776,...</td>\n",
              "      <td>[8138573, 9169872, 24374639, 8682855, 9988776,...</td>\n",
              "      <td>28162953</td>\n",
              "      <td>Pom152</td>\n",
              "    </tr>\n",
              "    <tr>\n",
              "      <th>4</th>\n",
              "      <td>P39685</td>\n",
              "      <td>855159</td>\n",
              "      <td>[8138573, 9169872, 24374639, 8682855, 9988776,...</td>\n",
              "      <td>[8138573, 9169872, 24374639, 8682855, 9988776,...</td>\n",
              "      <td>7559775</td>\n",
              "      <td>POM152</td>\n",
              "    </tr>\n",
              "  </tbody>\n",
              "</table>\n",
              "</div>"
            ],
            "text/plain": [
              "       id  geneid                                               pmid  \\\n",
              "0  P39685  855159  [8138573, 9169872, 24374639, 8682855, 9988776,...   \n",
              "1  P39685  855159  [8138573, 9169872, 24374639, 8682855, 9988776,...   \n",
              "2  P39685  855159  [8138573, 9169872, 24374639, 8682855, 9988776,...   \n",
              "3  P39685  855159  [8138573, 9169872, 24374639, 8682855, 9988776,...   \n",
              "4  P39685  855159  [8138573, 9169872, 24374639, 8682855, 9988776,...   \n",
              "\n",
              "                                             sp_pmid pubtator_pmid  \\\n",
              "0  [8138573, 9169872, 24374639, 8682855, 9988776,...      16118201   \n",
              "1  [8138573, 9169872, 24374639, 8682855, 9988776,...      16682526   \n",
              "2  [8138573, 9169872, 24374639, 8682855, 9988776,...      26510791   \n",
              "3  [8138573, 9169872, 24374639, 8682855, 9988776,...      28162953   \n",
              "4  [8138573, 9169872, 24374639, 8682855, 9988776,...       7559775   \n",
              "\n",
              "         mentions  \n",
              "0  Pom152p|pom152  \n",
              "1         Pom152p  \n",
              "2   POM152|Pom152  \n",
              "3          Pom152  \n",
              "4          POM152  "
            ]
          },
          "metadata": {
            "tags": []
          },
          "execution_count": 36
        }
      ]
    },
    {
      "cell_type": "code",
      "metadata": {
        "id": "WnY9D6RDldic",
        "colab_type": "code",
        "colab": {},
        "outputId": "629c6fe2-7f77-4cc6-c6c5-03f9b51484f7"
      },
      "source": [
        "merged.tail()"
      ],
      "execution_count": 0,
      "outputs": [
        {
          "output_type": "execute_result",
          "data": {
            "text/html": [
              "<div>\n",
              "<style>\n",
              "    .dataframe thead tr:only-child th {\n",
              "        text-align: right;\n",
              "    }\n",
              "\n",
              "    .dataframe thead th {\n",
              "        text-align: left;\n",
              "    }\n",
              "\n",
              "    .dataframe tbody tr th {\n",
              "        vertical-align: top;\n",
              "    }\n",
              "</style>\n",
              "<table border=\"1\" class=\"dataframe\">\n",
              "  <thead>\n",
              "    <tr style=\"text-align: right;\">\n",
              "      <th></th>\n",
              "      <th>id</th>\n",
              "      <th>geneid</th>\n",
              "      <th>pmid</th>\n",
              "      <th>sp_pmid</th>\n",
              "      <th>pubtator_pmid</th>\n",
              "      <th>mentions</th>\n",
              "    </tr>\n",
              "  </thead>\n",
              "  <tbody>\n",
              "    <tr>\n",
              "      <th>608</th>\n",
              "      <td>P36005</td>\n",
              "      <td>853696</td>\n",
              "      <td>[8091859, 8196765, 24374639, 9111331, 11062466...</td>\n",
              "      <td>[8091859, 8196765, 24374639, 9111331, 11062466...</td>\n",
              "      <td>24554767</td>\n",
              "      <td>Kdx1p</td>\n",
              "    </tr>\n",
              "    <tr>\n",
              "      <th>609</th>\n",
              "      <td>P36005</td>\n",
              "      <td>853696</td>\n",
              "      <td>[8091859, 8196765, 24374639, 9111331, 11062466...</td>\n",
              "      <td>[8091859, 8196765, 24374639, 9111331, 11062466...</td>\n",
              "      <td>16973600</td>\n",
              "      <td>YKL161c</td>\n",
              "    </tr>\n",
              "    <tr>\n",
              "      <th>610</th>\n",
              "      <td>P36005</td>\n",
              "      <td>853696</td>\n",
              "      <td>[8091859, 8196765, 24374639, 9111331, 11062466...</td>\n",
              "      <td>[8091859, 8196765, 24374639, 9111331, 11062466...</td>\n",
              "      <td>22621902</td>\n",
              "      <td>KDX1</td>\n",
              "    </tr>\n",
              "    <tr>\n",
              "      <th>611</th>\n",
              "      <td>P36005</td>\n",
              "      <td>853696</td>\n",
              "      <td>[8091859, 8196765, 24374639, 9111331, 11062466...</td>\n",
              "      <td>[8091859, 8196765, 24374639, 9111331, 11062466...</td>\n",
              "      <td>25449759</td>\n",
              "      <td>KDX1</td>\n",
              "    </tr>\n",
              "    <tr>\n",
              "      <th>612</th>\n",
              "      <td>P36005</td>\n",
              "      <td>853696</td>\n",
              "      <td>[8091859, 8196765, 24374639, 9111331, 11062466...</td>\n",
              "      <td>[8091859, 8196765, 24374639, 9111331, 11062466...</td>\n",
              "      <td>26845706</td>\n",
              "      <td>KDX1</td>\n",
              "    </tr>\n",
              "  </tbody>\n",
              "</table>\n",
              "</div>"
            ],
            "text/plain": [
              "         id  geneid                                               pmid  \\\n",
              "608  P36005  853696  [8091859, 8196765, 24374639, 9111331, 11062466...   \n",
              "609  P36005  853696  [8091859, 8196765, 24374639, 9111331, 11062466...   \n",
              "610  P36005  853696  [8091859, 8196765, 24374639, 9111331, 11062466...   \n",
              "611  P36005  853696  [8091859, 8196765, 24374639, 9111331, 11062466...   \n",
              "612  P36005  853696  [8091859, 8196765, 24374639, 9111331, 11062466...   \n",
              "\n",
              "                                               sp_pmid pubtator_pmid mentions  \n",
              "608  [8091859, 8196765, 24374639, 9111331, 11062466...      24554767    Kdx1p  \n",
              "609  [8091859, 8196765, 24374639, 9111331, 11062466...      16973600  YKL161c  \n",
              "610  [8091859, 8196765, 24374639, 9111331, 11062466...      22621902     KDX1  \n",
              "611  [8091859, 8196765, 24374639, 9111331, 11062466...      25449759     KDX1  \n",
              "612  [8091859, 8196765, 24374639, 9111331, 11062466...      26845706     KDX1  "
            ]
          },
          "metadata": {
            "tags": []
          },
          "execution_count": 37
        }
      ]
    },
    {
      "cell_type": "code",
      "metadata": {
        "id": "WBprFa3qldie",
        "colab_type": "code",
        "colab": {},
        "outputId": "feaaee67-a7a3-4b83-dcb8-cd79d5f54691"
      },
      "source": [
        "new_refs = merged[merged.apply(lambda x: x.pubtator_pmid not in x.pmid, axis=1)].reset_index(drop=True)\n",
        "new_refs.head()"
      ],
      "execution_count": 0,
      "outputs": [
        {
          "output_type": "execute_result",
          "data": {
            "text/html": [
              "<div>\n",
              "<style>\n",
              "    .dataframe thead tr:only-child th {\n",
              "        text-align: right;\n",
              "    }\n",
              "\n",
              "    .dataframe thead th {\n",
              "        text-align: left;\n",
              "    }\n",
              "\n",
              "    .dataframe tbody tr th {\n",
              "        vertical-align: top;\n",
              "    }\n",
              "</style>\n",
              "<table border=\"1\" class=\"dataframe\">\n",
              "  <thead>\n",
              "    <tr style=\"text-align: right;\">\n",
              "      <th></th>\n",
              "      <th>id</th>\n",
              "      <th>geneid</th>\n",
              "      <th>pmid</th>\n",
              "      <th>sp_pmid</th>\n",
              "      <th>pubtator_pmid</th>\n",
              "      <th>mentions</th>\n",
              "    </tr>\n",
              "  </thead>\n",
              "  <tbody>\n",
              "    <tr>\n",
              "      <th>0</th>\n",
              "      <td>P39685</td>\n",
              "      <td>855159</td>\n",
              "      <td>[8138573, 9169872, 24374639, 8682855, 9988776,...</td>\n",
              "      <td>[8138573, 9169872, 24374639, 8682855, 9988776,...</td>\n",
              "      <td>16118201</td>\n",
              "      <td>Pom152p|pom152</td>\n",
              "    </tr>\n",
              "    <tr>\n",
              "      <th>1</th>\n",
              "      <td>P39685</td>\n",
              "      <td>855159</td>\n",
              "      <td>[8138573, 9169872, 24374639, 8682855, 9988776,...</td>\n",
              "      <td>[8138573, 9169872, 24374639, 8682855, 9988776,...</td>\n",
              "      <td>16682526</td>\n",
              "      <td>Pom152p</td>\n",
              "    </tr>\n",
              "    <tr>\n",
              "      <th>2</th>\n",
              "      <td>P39685</td>\n",
              "      <td>855159</td>\n",
              "      <td>[8138573, 9169872, 24374639, 8682855, 9988776,...</td>\n",
              "      <td>[8138573, 9169872, 24374639, 8682855, 9988776,...</td>\n",
              "      <td>26510791</td>\n",
              "      <td>POM152|Pom152</td>\n",
              "    </tr>\n",
              "    <tr>\n",
              "      <th>3</th>\n",
              "      <td>P39685</td>\n",
              "      <td>855159</td>\n",
              "      <td>[8138573, 9169872, 24374639, 8682855, 9988776,...</td>\n",
              "      <td>[8138573, 9169872, 24374639, 8682855, 9988776,...</td>\n",
              "      <td>28162953</td>\n",
              "      <td>Pom152</td>\n",
              "    </tr>\n",
              "    <tr>\n",
              "      <th>4</th>\n",
              "      <td>P39685</td>\n",
              "      <td>855159</td>\n",
              "      <td>[8138573, 9169872, 24374639, 8682855, 9988776,...</td>\n",
              "      <td>[8138573, 9169872, 24374639, 8682855, 9988776,...</td>\n",
              "      <td>7559775</td>\n",
              "      <td>POM152</td>\n",
              "    </tr>\n",
              "  </tbody>\n",
              "</table>\n",
              "</div>"
            ],
            "text/plain": [
              "       id  geneid                                               pmid  \\\n",
              "0  P39685  855159  [8138573, 9169872, 24374639, 8682855, 9988776,...   \n",
              "1  P39685  855159  [8138573, 9169872, 24374639, 8682855, 9988776,...   \n",
              "2  P39685  855159  [8138573, 9169872, 24374639, 8682855, 9988776,...   \n",
              "3  P39685  855159  [8138573, 9169872, 24374639, 8682855, 9988776,...   \n",
              "4  P39685  855159  [8138573, 9169872, 24374639, 8682855, 9988776,...   \n",
              "\n",
              "                                             sp_pmid pubtator_pmid  \\\n",
              "0  [8138573, 9169872, 24374639, 8682855, 9988776,...      16118201   \n",
              "1  [8138573, 9169872, 24374639, 8682855, 9988776,...      16682526   \n",
              "2  [8138573, 9169872, 24374639, 8682855, 9988776,...      26510791   \n",
              "3  [8138573, 9169872, 24374639, 8682855, 9988776,...      28162953   \n",
              "4  [8138573, 9169872, 24374639, 8682855, 9988776,...       7559775   \n",
              "\n",
              "         mentions  \n",
              "0  Pom152p|pom152  \n",
              "1         Pom152p  \n",
              "2   POM152|Pom152  \n",
              "3          Pom152  \n",
              "4          POM152  "
            ]
          },
          "metadata": {
            "tags": []
          },
          "execution_count": 38
        }
      ]
    },
    {
      "cell_type": "code",
      "metadata": {
        "id": "6WyMvaiNldig",
        "colab_type": "code",
        "colab": {}
      },
      "source": [
        "new_refs['len_pmid'] = new_refs['pmid'].str.len()\n",
        "new_refs['len_spmid'] = new_refs['sp_pmid'].str.len() \n"
      ],
      "execution_count": 0,
      "outputs": []
    },
    {
      "cell_type": "code",
      "metadata": {
        "id": "WAH0QvNjldii",
        "colab_type": "code",
        "colab": {}
      },
      "source": [
        "new_refs['len_pubtator'] = new_refs.groupby('geneid')['id'].transform('count')"
      ],
      "execution_count": 0,
      "outputs": []
    },
    {
      "cell_type": "code",
      "metadata": {
        "id": "c_XjsZIoldik",
        "colab_type": "code",
        "colab": {},
        "outputId": "4bf2e3ea-b4b3-4773-ee28-772ade513fcb"
      },
      "source": [
        "new_refs.head()"
      ],
      "execution_count": 0,
      "outputs": [
        {
          "output_type": "execute_result",
          "data": {
            "text/html": [
              "<div>\n",
              "<style>\n",
              "    .dataframe thead tr:only-child th {\n",
              "        text-align: right;\n",
              "    }\n",
              "\n",
              "    .dataframe thead th {\n",
              "        text-align: left;\n",
              "    }\n",
              "\n",
              "    .dataframe tbody tr th {\n",
              "        vertical-align: top;\n",
              "    }\n",
              "</style>\n",
              "<table border=\"1\" class=\"dataframe\">\n",
              "  <thead>\n",
              "    <tr style=\"text-align: right;\">\n",
              "      <th></th>\n",
              "      <th>id</th>\n",
              "      <th>geneid</th>\n",
              "      <th>pmid</th>\n",
              "      <th>sp_pmid</th>\n",
              "      <th>pubtator_pmid</th>\n",
              "      <th>mentions</th>\n",
              "      <th>len_pmid</th>\n",
              "      <th>len_spmid</th>\n",
              "      <th>len_pubtator</th>\n",
              "    </tr>\n",
              "  </thead>\n",
              "  <tbody>\n",
              "    <tr>\n",
              "      <th>0</th>\n",
              "      <td>P39685</td>\n",
              "      <td>855159</td>\n",
              "      <td>[8138573, 9169872, 24374639, 8682855, 9988776,...</td>\n",
              "      <td>[8138573, 9169872, 24374639, 8682855, 9988776,...</td>\n",
              "      <td>16118201</td>\n",
              "      <td>Pom152p|pom152</td>\n",
              "      <td>15</td>\n",
              "      <td>63</td>\n",
              "      <td>9</td>\n",
              "    </tr>\n",
              "    <tr>\n",
              "      <th>1</th>\n",
              "      <td>P39685</td>\n",
              "      <td>855159</td>\n",
              "      <td>[8138573, 9169872, 24374639, 8682855, 9988776,...</td>\n",
              "      <td>[8138573, 9169872, 24374639, 8682855, 9988776,...</td>\n",
              "      <td>16682526</td>\n",
              "      <td>Pom152p</td>\n",
              "      <td>15</td>\n",
              "      <td>63</td>\n",
              "      <td>9</td>\n",
              "    </tr>\n",
              "    <tr>\n",
              "      <th>2</th>\n",
              "      <td>P39685</td>\n",
              "      <td>855159</td>\n",
              "      <td>[8138573, 9169872, 24374639, 8682855, 9988776,...</td>\n",
              "      <td>[8138573, 9169872, 24374639, 8682855, 9988776,...</td>\n",
              "      <td>26510791</td>\n",
              "      <td>POM152|Pom152</td>\n",
              "      <td>15</td>\n",
              "      <td>63</td>\n",
              "      <td>9</td>\n",
              "    </tr>\n",
              "    <tr>\n",
              "      <th>3</th>\n",
              "      <td>P39685</td>\n",
              "      <td>855159</td>\n",
              "      <td>[8138573, 9169872, 24374639, 8682855, 9988776,...</td>\n",
              "      <td>[8138573, 9169872, 24374639, 8682855, 9988776,...</td>\n",
              "      <td>28162953</td>\n",
              "      <td>Pom152</td>\n",
              "      <td>15</td>\n",
              "      <td>63</td>\n",
              "      <td>9</td>\n",
              "    </tr>\n",
              "    <tr>\n",
              "      <th>4</th>\n",
              "      <td>P39685</td>\n",
              "      <td>855159</td>\n",
              "      <td>[8138573, 9169872, 24374639, 8682855, 9988776,...</td>\n",
              "      <td>[8138573, 9169872, 24374639, 8682855, 9988776,...</td>\n",
              "      <td>7559775</td>\n",
              "      <td>POM152</td>\n",
              "      <td>15</td>\n",
              "      <td>63</td>\n",
              "      <td>9</td>\n",
              "    </tr>\n",
              "  </tbody>\n",
              "</table>\n",
              "</div>"
            ],
            "text/plain": [
              "       id  geneid                                               pmid  \\\n",
              "0  P39685  855159  [8138573, 9169872, 24374639, 8682855, 9988776,...   \n",
              "1  P39685  855159  [8138573, 9169872, 24374639, 8682855, 9988776,...   \n",
              "2  P39685  855159  [8138573, 9169872, 24374639, 8682855, 9988776,...   \n",
              "3  P39685  855159  [8138573, 9169872, 24374639, 8682855, 9988776,...   \n",
              "4  P39685  855159  [8138573, 9169872, 24374639, 8682855, 9988776,...   \n",
              "\n",
              "                                             sp_pmid pubtator_pmid  \\\n",
              "0  [8138573, 9169872, 24374639, 8682855, 9988776,...      16118201   \n",
              "1  [8138573, 9169872, 24374639, 8682855, 9988776,...      16682526   \n",
              "2  [8138573, 9169872, 24374639, 8682855, 9988776,...      26510791   \n",
              "3  [8138573, 9169872, 24374639, 8682855, 9988776,...      28162953   \n",
              "4  [8138573, 9169872, 24374639, 8682855, 9988776,...       7559775   \n",
              "\n",
              "         mentions  len_pmid  len_spmid  len_pubtator  \n",
              "0  Pom152p|pom152        15         63             9  \n",
              "1         Pom152p        15         63             9  \n",
              "2   POM152|Pom152        15         63             9  \n",
              "3          Pom152        15         63             9  \n",
              "4          POM152        15         63             9  "
            ]
          },
          "metadata": {
            "tags": []
          },
          "execution_count": 41
        }
      ]
    },
    {
      "cell_type": "code",
      "metadata": {
        "id": "dHES9iO6ldim",
        "colab_type": "code",
        "colab": {},
        "outputId": "d6cec594-bebc-4ba8-a314-34113d6578a7"
      },
      "source": [
        "new_refs.tail()"
      ],
      "execution_count": 0,
      "outputs": [
        {
          "output_type": "execute_result",
          "data": {
            "text/html": [
              "<div>\n",
              "<style>\n",
              "    .dataframe thead tr:only-child th {\n",
              "        text-align: right;\n",
              "    }\n",
              "\n",
              "    .dataframe thead th {\n",
              "        text-align: left;\n",
              "    }\n",
              "\n",
              "    .dataframe tbody tr th {\n",
              "        vertical-align: top;\n",
              "    }\n",
              "</style>\n",
              "<table border=\"1\" class=\"dataframe\">\n",
              "  <thead>\n",
              "    <tr style=\"text-align: right;\">\n",
              "      <th></th>\n",
              "      <th>id</th>\n",
              "      <th>geneid</th>\n",
              "      <th>pmid</th>\n",
              "      <th>sp_pmid</th>\n",
              "      <th>pubtator_pmid</th>\n",
              "      <th>mentions</th>\n",
              "      <th>len_pmid</th>\n",
              "      <th>len_spmid</th>\n",
              "      <th>len_pubtator</th>\n",
              "    </tr>\n",
              "  </thead>\n",
              "  <tbody>\n",
              "    <tr>\n",
              "      <th>481</th>\n",
              "      <td>P36005</td>\n",
              "      <td>853696</td>\n",
              "      <td>[8091859, 8196765, 24374639, 9111331, 11062466...</td>\n",
              "      <td>[8091859, 8196765, 24374639, 9111331, 11062466...</td>\n",
              "      <td>24554767</td>\n",
              "      <td>Kdx1p</td>\n",
              "      <td>7</td>\n",
              "      <td>21</td>\n",
              "      <td>6</td>\n",
              "    </tr>\n",
              "    <tr>\n",
              "      <th>482</th>\n",
              "      <td>P36005</td>\n",
              "      <td>853696</td>\n",
              "      <td>[8091859, 8196765, 24374639, 9111331, 11062466...</td>\n",
              "      <td>[8091859, 8196765, 24374639, 9111331, 11062466...</td>\n",
              "      <td>16973600</td>\n",
              "      <td>YKL161c</td>\n",
              "      <td>7</td>\n",
              "      <td>21</td>\n",
              "      <td>6</td>\n",
              "    </tr>\n",
              "    <tr>\n",
              "      <th>483</th>\n",
              "      <td>P36005</td>\n",
              "      <td>853696</td>\n",
              "      <td>[8091859, 8196765, 24374639, 9111331, 11062466...</td>\n",
              "      <td>[8091859, 8196765, 24374639, 9111331, 11062466...</td>\n",
              "      <td>22621902</td>\n",
              "      <td>KDX1</td>\n",
              "      <td>7</td>\n",
              "      <td>21</td>\n",
              "      <td>6</td>\n",
              "    </tr>\n",
              "    <tr>\n",
              "      <th>484</th>\n",
              "      <td>P36005</td>\n",
              "      <td>853696</td>\n",
              "      <td>[8091859, 8196765, 24374639, 9111331, 11062466...</td>\n",
              "      <td>[8091859, 8196765, 24374639, 9111331, 11062466...</td>\n",
              "      <td>25449759</td>\n",
              "      <td>KDX1</td>\n",
              "      <td>7</td>\n",
              "      <td>21</td>\n",
              "      <td>6</td>\n",
              "    </tr>\n",
              "    <tr>\n",
              "      <th>485</th>\n",
              "      <td>P36005</td>\n",
              "      <td>853696</td>\n",
              "      <td>[8091859, 8196765, 24374639, 9111331, 11062466...</td>\n",
              "      <td>[8091859, 8196765, 24374639, 9111331, 11062466...</td>\n",
              "      <td>26845706</td>\n",
              "      <td>KDX1</td>\n",
              "      <td>7</td>\n",
              "      <td>21</td>\n",
              "      <td>6</td>\n",
              "    </tr>\n",
              "  </tbody>\n",
              "</table>\n",
              "</div>"
            ],
            "text/plain": [
              "         id  geneid                                               pmid  \\\n",
              "481  P36005  853696  [8091859, 8196765, 24374639, 9111331, 11062466...   \n",
              "482  P36005  853696  [8091859, 8196765, 24374639, 9111331, 11062466...   \n",
              "483  P36005  853696  [8091859, 8196765, 24374639, 9111331, 11062466...   \n",
              "484  P36005  853696  [8091859, 8196765, 24374639, 9111331, 11062466...   \n",
              "485  P36005  853696  [8091859, 8196765, 24374639, 9111331, 11062466...   \n",
              "\n",
              "                                               sp_pmid pubtator_pmid mentions  \\\n",
              "481  [8091859, 8196765, 24374639, 9111331, 11062466...      24554767    Kdx1p   \n",
              "482  [8091859, 8196765, 24374639, 9111331, 11062466...      16973600  YKL161c   \n",
              "483  [8091859, 8196765, 24374639, 9111331, 11062466...      22621902     KDX1   \n",
              "484  [8091859, 8196765, 24374639, 9111331, 11062466...      25449759     KDX1   \n",
              "485  [8091859, 8196765, 24374639, 9111331, 11062466...      26845706     KDX1   \n",
              "\n",
              "     len_pmid  len_spmid  len_pubtator  \n",
              "481         7         21             6  \n",
              "482         7         21             6  \n",
              "483         7         21             6  \n",
              "484         7         21             6  \n",
              "485         7         21             6  "
            ]
          },
          "metadata": {
            "tags": []
          },
          "execution_count": 42
        }
      ]
    },
    {
      "cell_type": "code",
      "metadata": {
        "id": "otDvAEGQldio",
        "colab_type": "code",
        "colab": {}
      },
      "source": [
        " "
      ],
      "execution_count": 0,
      "outputs": []
    },
    {
      "cell_type": "code",
      "metadata": {
        "id": "xvYjNUzrldir",
        "colab_type": "code",
        "colab": {}
      },
      "source": [
        "new_refs.to_csv('yeast.tsv', sep='\\t', index=False)"
      ],
      "execution_count": 0,
      "outputs": []
    },
    {
      "cell_type": "code",
      "metadata": {
        "id": "sxuGBMYVldiv",
        "colab_type": "code",
        "colab": {}
      },
      "source": [
        ""
      ],
      "execution_count": 0,
      "outputs": []
    }
  ]
}