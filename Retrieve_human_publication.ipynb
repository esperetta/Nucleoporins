{
  "nbformat": 4,
  "nbformat_minor": 0,
  "metadata": {
    "kernelspec": {
      "display_name": "Python 3",
      "language": "python",
      "name": "python3"
    },
    "language_info": {
      "codemirror_mode": {
        "name": "ipython",
        "version": 3
      },
      "file_extension": ".py",
      "mimetype": "text/x-python",
      "name": "python",
      "nbconvert_exporter": "python",
      "pygments_lexer": "ipython3",
      "version": "3.6.3"
    },
    "colab": {
      "name": "Retrieve_human_publication.ipynb",
      "version": "0.3.2",
      "provenance": []
    }
  },
  "cells": [
    {
      "cell_type": "markdown",
      "metadata": {
        "id": "DMW0uRqmszqx",
        "colab_type": "text"
      },
      "source": [
        "21 July 2019\n",
        "Mapping the number of papers that could be added to UniProt.\n",
        "\n",
        "Example 1 - human nucleoporins. \n",
        "\n",
        "The list was compiled as part of the preparation for Biocuration 2019 and it is mix of analysis from the literature and blast searches."
      ]
    },
    {
      "cell_type": "code",
      "metadata": {
        "id": "JREAVp0sszqz",
        "colab_type": "code",
        "colab": {}
      },
      "source": [
        "list =['DYNLL1','NPAP1','NUP153','POM121','POM121B','POM121C','POM121L12','POM121L2','POM121','POM121B','POM121C','POM121L12','POM121L','NDC1','NUP205','NUP188','NUP155','NUP35','NUP133','NUP160?','NUP98','NUP85','NUP107','SEH1L','SEC13','NUP93','NUP54','NUP62','NUP88?','DYNLL2','GLE1','RAE1']"
      ],
      "execution_count": 0,
      "outputs": []
    },
    {
      "cell_type": "code",
      "metadata": {
        "id": "T8GSLKisszq2",
        "colab_type": "code",
        "outputId": "63eb00b2-9965-49fb-a402-6b618e9b2cf0",
        "colab": {}
      },
      "source": [
        "list[1]"
      ],
      "execution_count": 0,
      "outputs": [
        {
          "output_type": "execute_result",
          "data": {
            "text/plain": [
              "'NPAP1'"
            ]
          },
          "metadata": {
            "tags": []
          },
          "execution_count": 109
        }
      ]
    },
    {
      "cell_type": "code",
      "metadata": {
        "id": "OunLkzicszq8",
        "colab_type": "code",
        "colab": {}
      },
      "source": [
        "import requests, sys\n",
        "for element in list:\n",
        "    #print(element)\n",
        "    url = 'https://www.uniprot.org/uniprot/?query=gene%3A' + element + '+taxonomy%3A%22Homo+sapiens+%28Human%29+%5B9606%5D%22+reviewed%3Ayes&sort=score&fil=&format=tab&columns=id,database(GeneID),citation,citationmapping'    \n",
        "    r = requests.get(url) \n",
        "        #name = print(gene + '_retrieved.tab')\n",
        "    with open('retrieved_human.tab', 'a') as outfile:\n",
        "        outfile.write(r.text)"
      ],
      "execution_count": 0,
      "outputs": []
    },
    {
      "cell_type": "code",
      "metadata": {
        "id": "lFaBUb6Jszq-",
        "colab_type": "code",
        "outputId": "6c573342-0f88-4f18-df64-992e391bffde",
        "colab": {}
      },
      "source": [
        "import pandas as pd\n",
        "\n",
        "df = pd.read_csv('retrieved_human.tab', \n",
        "                    sep='\\t',\n",
        "                    header=None,\n",
        "                    names=['id', 'geneid', 'pmid', 'sp_pmid'],\n",
        "                    converters={'geneid': lambda x: x.strip(';'), 'pmid': lambda x: x.split('; '), 'sp_pmid': lambda x: x.split('; ')})\n",
        "df.head()\n"
      ],
      "execution_count": 0,
      "outputs": [
        {
          "output_type": "execute_result",
          "data": {
            "text/html": [
              "<div>\n",
              "<style>\n",
              "    .dataframe thead tr:only-child th {\n",
              "        text-align: right;\n",
              "    }\n",
              "\n",
              "    .dataframe thead th {\n",
              "        text-align: left;\n",
              "    }\n",
              "\n",
              "    .dataframe tbody tr th {\n",
              "        vertical-align: top;\n",
              "    }\n",
              "</style>\n",
              "<table border=\"1\" class=\"dataframe\">\n",
              "  <thead>\n",
              "    <tr style=\"text-align: right;\">\n",
              "      <th></th>\n",
              "      <th>id</th>\n",
              "      <th>geneid</th>\n",
              "      <th>pmid</th>\n",
              "      <th>sp_pmid</th>\n",
              "    </tr>\n",
              "  </thead>\n",
              "  <tbody>\n",
              "    <tr>\n",
              "      <th>0</th>\n",
              "      <td>Entry</td>\n",
              "      <td>Cross-reference (GeneID)</td>\n",
              "      <td>[PubMed ID]</td>\n",
              "      <td>[Mapped PubMed ID]</td>\n",
              "    </tr>\n",
              "    <tr>\n",
              "      <th>1</th>\n",
              "      <td>P63167</td>\n",
              "      <td>8655</td>\n",
              "      <td>[8628263, 10198631, 12857789, 14654843, 151932...</td>\n",
              "      <td>[8628263, 10198631, 12857789, 14654843, 151932...</td>\n",
              "    </tr>\n",
              "    <tr>\n",
              "      <th>2</th>\n",
              "      <td>Entry</td>\n",
              "      <td>Cross-reference (GeneID)</td>\n",
              "      <td>[PubMed ID]</td>\n",
              "      <td>[Mapped PubMed ID]</td>\n",
              "    </tr>\n",
              "    <tr>\n",
              "      <th>3</th>\n",
              "      <td>Q9NZP6</td>\n",
              "      <td>23742</td>\n",
              "      <td>[10783265, 16572171, 16959974, 17337158, 20020...</td>\n",
              "      <td>[10783265, 16572171, 16959974, 17337158, 20020...</td>\n",
              "    </tr>\n",
              "    <tr>\n",
              "      <th>4</th>\n",
              "      <td>Entry</td>\n",
              "      <td>Cross-reference (GeneID)</td>\n",
              "      <td>[PubMed ID]</td>\n",
              "      <td>[Mapped PubMed ID]</td>\n",
              "    </tr>\n",
              "  </tbody>\n",
              "</table>\n",
              "</div>"
            ],
            "text/plain": [
              "       id                    geneid  \\\n",
              "0   Entry  Cross-reference (GeneID)   \n",
              "1  P63167                      8655   \n",
              "2   Entry  Cross-reference (GeneID)   \n",
              "3  Q9NZP6                     23742   \n",
              "4   Entry  Cross-reference (GeneID)   \n",
              "\n",
              "                                                pmid  \\\n",
              "0                                        [PubMed ID]   \n",
              "1  [8628263, 10198631, 12857789, 14654843, 151932...   \n",
              "2                                        [PubMed ID]   \n",
              "3  [10783265, 16572171, 16959974, 17337158, 20020...   \n",
              "4                                        [PubMed ID]   \n",
              "\n",
              "                                             sp_pmid  \n",
              "0                                 [Mapped PubMed ID]  \n",
              "1  [8628263, 10198631, 12857789, 14654843, 151932...  \n",
              "2                                 [Mapped PubMed ID]  \n",
              "3  [10783265, 16572171, 16959974, 17337158, 20020...  \n",
              "4                                 [Mapped PubMed ID]  "
            ]
          },
          "metadata": {
            "tags": []
          },
          "execution_count": 112
        }
      ]
    },
    {
      "cell_type": "code",
      "metadata": {
        "id": "Na9S57LjszrB",
        "colab_type": "code",
        "outputId": "611eb4cd-33ac-4b3a-ad7b-e9874f6a1866",
        "colab": {}
      },
      "source": [
        "#a = df.iloc[1::2]\n",
        "a = a[~a['id'].isin(['Entry'])]\n",
        "a.head()"
      ],
      "execution_count": 0,
      "outputs": [
        {
          "output_type": "execute_result",
          "data": {
            "text/html": [
              "<div>\n",
              "<style>\n",
              "    .dataframe thead tr:only-child th {\n",
              "        text-align: right;\n",
              "    }\n",
              "\n",
              "    .dataframe thead th {\n",
              "        text-align: left;\n",
              "    }\n",
              "\n",
              "    .dataframe tbody tr th {\n",
              "        vertical-align: top;\n",
              "    }\n",
              "</style>\n",
              "<table border=\"1\" class=\"dataframe\">\n",
              "  <thead>\n",
              "    <tr style=\"text-align: right;\">\n",
              "      <th></th>\n",
              "      <th>id</th>\n",
              "      <th>geneid</th>\n",
              "      <th>pmid</th>\n",
              "      <th>sp_pmid</th>\n",
              "    </tr>\n",
              "  </thead>\n",
              "  <tbody>\n",
              "    <tr>\n",
              "      <th>1</th>\n",
              "      <td>P63167</td>\n",
              "      <td>8655</td>\n",
              "      <td>[8628263, 10198631, 12857789, 14654843, 151932...</td>\n",
              "      <td>[8628263, 10198631, 12857789, 14654843, 151932...</td>\n",
              "    </tr>\n",
              "    <tr>\n",
              "      <th>3</th>\n",
              "      <td>Q9NZP6</td>\n",
              "      <td>23742</td>\n",
              "      <td>[10783265, 16572171, 16959974, 17337158, 20020...</td>\n",
              "      <td>[10783265, 16572171, 16959974, 17337158, 20020...</td>\n",
              "    </tr>\n",
              "    <tr>\n",
              "      <th>5</th>\n",
              "      <td>P49790</td>\n",
              "      <td>9972</td>\n",
              "      <td>[8110839, 14702039, 14574404, 15489334, 117779...</td>\n",
              "      <td>[8110839, 14702039, 14574404, 15489334, 117779...</td>\n",
              "    </tr>\n",
              "    <tr>\n",
              "      <th>7</th>\n",
              "      <td>Q96HA1</td>\n",
              "      <td>9883</td>\n",
              "      <td>[9734811, 14702039, 12853948, 15489334, 179005...</td>\n",
              "      <td>[9734811, 14702039, 12853948, 15489334, 179005...</td>\n",
              "    </tr>\n",
              "    <tr>\n",
              "      <th>9</th>\n",
              "      <td>Q96KW2</td>\n",
              "      <td>94026</td>\n",
              "      <td>[14574404]</td>\n",
              "      <td>[14574404, 19571809]</td>\n",
              "    </tr>\n",
              "  </tbody>\n",
              "</table>\n",
              "</div>"
            ],
            "text/plain": [
              "       id geneid                                               pmid  \\\n",
              "1  P63167   8655  [8628263, 10198631, 12857789, 14654843, 151932...   \n",
              "3  Q9NZP6  23742  [10783265, 16572171, 16959974, 17337158, 20020...   \n",
              "5  P49790   9972  [8110839, 14702039, 14574404, 15489334, 117779...   \n",
              "7  Q96HA1   9883  [9734811, 14702039, 12853948, 15489334, 179005...   \n",
              "9  Q96KW2  94026                                         [14574404]   \n",
              "\n",
              "                                             sp_pmid  \n",
              "1  [8628263, 10198631, 12857789, 14654843, 151932...  \n",
              "3  [10783265, 16572171, 16959974, 17337158, 20020...  \n",
              "5  [8110839, 14702039, 14574404, 15489334, 117779...  \n",
              "7  [9734811, 14702039, 12853948, 15489334, 179005...  \n",
              "9                               [14574404, 19571809]  "
            ]
          },
          "metadata": {
            "tags": []
          },
          "execution_count": 113
        }
      ]
    },
    {
      "cell_type": "code",
      "metadata": {
        "id": "grG3UgMDszrE",
        "colab_type": "code",
        "outputId": "684e42bc-72c9-46d7-c7ba-3bf43cc3e145",
        "colab": {}
      },
      "source": [
        "a.tail"
      ],
      "execution_count": 0,
      "outputs": [
        {
          "output_type": "execute_result",
          "data": {
            "text/plain": [
              "<bound method NDFrame.tail of         id  geneid                                               pmid  \\\n",
              "1   P63167    8655  [8628263, 10198631, 12857789, 14654843, 151932...   \n",
              "3   Q9NZP6   23742  [10783265, 16572171, 16959974, 17337158, 20020...   \n",
              "5   P49790    9972  [8110839, 14702039, 14574404, 15489334, 117779...   \n",
              "7   Q96HA1    9883  [9734811, 14702039, 12853948, 15489334, 179005...   \n",
              "9   Q96KW2   94026                                         [14574404]   \n",
              "11  Q8N7R1  285877                     [14702039, 12853948, 17974005]   \n",
              "23  A8CG34          [12853948, 15489334, 17900573, 17081983, 18669...   \n",
              "25  A6NF01                                                 [12853948]   \n",
              "27  Q3SYA9                                       [10591208, 15489334]   \n",
              "29  A6NF01                                                 [12853948]   \n",
              "31  A8CG34          [12853948, 15489334, 17900573, 17081983, 18669...   \n",
              "33  Q8N7R1  285877                     [14702039, 12853948, 17974005]   \n",
              "35  Q96KW2   94026                                         [14574404]   \n",
              "37  Q3SYA9                                       [10591208, 15489334]   \n",
              "39  Q9BTX1   55706  [16702233, 14702039, 16710414, 15489334, 12958...   \n",
              "41  Q92621   23165  [9039502, 12853948, 15489334, 9348540, 1280206...   \n",
              "43  Q5SRE5   23511  [17974005, 15164053, 8724849, 15489334, 110290...   \n",
              "45  O75694    9631  [10191094, 12034489, 9872452, 15489334, 179740...   \n",
              "47  Q8NFH5  129401  [12196509, 14702039, 15815621, 15489334, 15703...   \n",
              "49  Q8WUM0   55746  [14702039, 16710414, 15489334, 11564755, 11684...   \n",
              "51  P52948    4928  [8563754, 10087256, 16554811, 15489334, 179740...   \n",
              "53  Q9BW27   79902  [12196509, 15995708, 14702039, 17974005, 16625...   \n",
              "55  P57740   57122  [14702039, 16541075, 15489334, 11564755, 11684...   \n",
              "57  Q96EE3   81929  [12196509, 14702039, 15489334, 15146057, 17363...   \n",
              "59  P55735    6396  [7987303, 9110174, 14702039, 16641997, 1548933...   \n",
              "67  Q9H1M0   54830                     [14702039, 15772651, 15489334]   \n",
              "69  Q96FJ2  140735  [14702039, 15489334, 19380881, 21269460, 24275...   \n",
              "71  Q53GS7    2733  [9618489, 15164053, 15489334, 17974005, 126686...   \n",
              "73  P78406    8480  [9370289, 9256445, 14702039, 11780052, 1548933...   \n",
              "\n",
              "                                              sp_pmid  \n",
              "1   [8628263, 10198631, 12857789, 14654843, 151932...  \n",
              "3   [10783265, 16572171, 16959974, 17337158, 20020...  \n",
              "5   [8110839, 14702039, 14574404, 15489334, 117779...  \n",
              "7   [9734811, 14702039, 12853948, 15489334, 179005...  \n",
              "9                                [14574404, 19571809]  \n",
              "11                                                 []  \n",
              "23  [12853948, 15489334, 17900573, 17081983, 18669...  \n",
              "25                                                 []  \n",
              "27                     [10591208, 15489334, 25416956]  \n",
              "29                                                 []  \n",
              "31  [12853948, 15489334, 17900573, 17081983, 18669...  \n",
              "33                                                 []  \n",
              "35                               [14574404, 19571809]  \n",
              "37                     [10591208, 15489334, 25416956]  \n",
              "39  [16702233, 14702039, 16710414, 15489334, 12958...  \n",
              "41  [9039502, 12853948, 15489334, 9348540, 1280206...  \n",
              "43  [17974005, 15164053, 8724849, 15489334, 110290...  \n",
              "45  [10191094, 12034489, 9872452, 15489334, 179740...  \n",
              "47  [12196509, 14702039, 15815621, 15489334, 15703...  \n",
              "49  [14702039, 16710414, 15489334, 11564755, 11684...  \n",
              "51  [8563754, 10087256, 16554811, 15489334, 179740...  \n",
              "53  [12196509, 15995708, 14702039, 17974005, 16625...  \n",
              "55  [14702039, 16541075, 15489334, 11564755, 11684...  \n",
              "57  [12196509, 14702039, 15489334, 15146057, 17363...  \n",
              "59  [7987303, 9110174, 14702039, 16641997, 1548933...  \n",
              "67  [14702039, 15772651, 15489334, 16189514, 25416...  \n",
              "69                                                 []  \n",
              "71  [9618489, 15164053, 15489334, 17974005, 126686...  \n",
              "73  [9370289, 9256445, 14702039, 11780052, 1548933...  >"
            ]
          },
          "metadata": {
            "tags": []
          },
          "execution_count": 114
        }
      ]
    },
    {
      "cell_type": "code",
      "metadata": {
        "id": "chM7LwhtszrG",
        "colab_type": "code",
        "outputId": "25c2fe67-3009-4ef4-d6b7-834c2848f84b",
        "colab": {}
      },
      "source": [
        "import pandas as pd\n",
        "pubtator = pd.read_csv('gene2pubtator',\n",
        "                        sep='\\t',\n",
        "                        header=0,\n",
        "                        names=['pubtator_pmid', 'geneid', 'mentions', 'source'],\n",
        "                        usecols=['pubtator_pmid', 'geneid', 'mentions'],\n",
        "                        dtype=str)\n",
        "\n",
        "pubtator.head()"
      ],
      "execution_count": 0,
      "outputs": [
        {
          "output_type": "execute_result",
          "data": {
            "text/html": [
              "<div>\n",
              "<style>\n",
              "    .dataframe thead tr:only-child th {\n",
              "        text-align: right;\n",
              "    }\n",
              "\n",
              "    .dataframe thead th {\n",
              "        text-align: left;\n",
              "    }\n",
              "\n",
              "    .dataframe tbody tr th {\n",
              "        vertical-align: top;\n",
              "    }\n",
              "</style>\n",
              "<table border=\"1\" class=\"dataframe\">\n",
              "  <thead>\n",
              "    <tr style=\"text-align: right;\">\n",
              "      <th></th>\n",
              "      <th>pubtator_pmid</th>\n",
              "      <th>geneid</th>\n",
              "      <th>mentions</th>\n",
              "    </tr>\n",
              "  </thead>\n",
              "  <tbody>\n",
              "    <tr>\n",
              "      <th>0</th>\n",
              "      <td>1000011</td>\n",
              "      <td>7356</td>\n",
              "      <td>blastokinin|uteroglobin</td>\n",
              "    </tr>\n",
              "    <tr>\n",
              "      <th>1</th>\n",
              "      <td>1000045</td>\n",
              "      <td>2006</td>\n",
              "      <td>tropoelastin</td>\n",
              "    </tr>\n",
              "    <tr>\n",
              "      <th>2</th>\n",
              "      <td>1000084</td>\n",
              "      <td>7018</td>\n",
              "      <td>transferrin</td>\n",
              "    </tr>\n",
              "    <tr>\n",
              "      <th>3</th>\n",
              "      <td>1000327</td>\n",
              "      <td>4199</td>\n",
              "      <td>malate dehydrogenase</td>\n",
              "    </tr>\n",
              "    <tr>\n",
              "      <th>4</th>\n",
              "      <td>10021369</td>\n",
              "      <td>10297</td>\n",
              "      <td>APC2</td>\n",
              "    </tr>\n",
              "  </tbody>\n",
              "</table>\n",
              "</div>"
            ],
            "text/plain": [
              "  pubtator_pmid geneid                 mentions\n",
              "0       1000011   7356  blastokinin|uteroglobin\n",
              "1       1000045   2006             tropoelastin\n",
              "2       1000084   7018              transferrin\n",
              "3       1000327   4199     malate dehydrogenase\n",
              "4      10021369  10297                     APC2"
            ]
          },
          "metadata": {
            "tags": []
          },
          "execution_count": 115
        }
      ]
    },
    {
      "cell_type": "code",
      "metadata": {
        "id": "J3ZQAZIfszrK",
        "colab_type": "code",
        "colab": {}
      },
      "source": [
        ""
      ],
      "execution_count": 0,
      "outputs": []
    },
    {
      "cell_type": "code",
      "metadata": {
        "id": "teVvwxh_szrL",
        "colab_type": "code",
        "colab": {}
      },
      "source": [
        "count = pubtator['geneid'].str.contains('8655', na=False).sum()\n"
      ],
      "execution_count": 0,
      "outputs": []
    },
    {
      "cell_type": "code",
      "metadata": {
        "id": "nkMq3URcszrO",
        "colab_type": "code",
        "outputId": "ef7f6f3e-e81f-40cf-f27a-7328ebafe866",
        "colab": {}
      },
      "source": [
        "count"
      ],
      "execution_count": 0,
      "outputs": [
        {
          "output_type": "execute_result",
          "data": {
            "text/plain": [
              "1638"
            ]
          },
          "metadata": {
            "tags": []
          },
          "execution_count": 117
        }
      ]
    },
    {
      "cell_type": "code",
      "metadata": {
        "id": "aleXy3VFszrQ",
        "colab_type": "code",
        "colab": {}
      },
      "source": [
        "merged =a.merge(pubtator, on='geneid')\n"
      ],
      "execution_count": 0,
      "outputs": []
    },
    {
      "cell_type": "code",
      "metadata": {
        "id": "AnwTWrdzszrR",
        "colab_type": "code",
        "outputId": "1e2926fa-4e4c-41a5-f544-9563129a0c63",
        "colab": {}
      },
      "source": [
        "merged.head()"
      ],
      "execution_count": 0,
      "outputs": [
        {
          "output_type": "execute_result",
          "data": {
            "text/html": [
              "<div>\n",
              "<style>\n",
              "    .dataframe thead tr:only-child th {\n",
              "        text-align: right;\n",
              "    }\n",
              "\n",
              "    .dataframe thead th {\n",
              "        text-align: left;\n",
              "    }\n",
              "\n",
              "    .dataframe tbody tr th {\n",
              "        vertical-align: top;\n",
              "    }\n",
              "</style>\n",
              "<table border=\"1\" class=\"dataframe\">\n",
              "  <thead>\n",
              "    <tr style=\"text-align: right;\">\n",
              "      <th></th>\n",
              "      <th>id</th>\n",
              "      <th>geneid</th>\n",
              "      <th>pmid</th>\n",
              "      <th>sp_pmid</th>\n",
              "      <th>pubtator_pmid</th>\n",
              "      <th>mentions</th>\n",
              "    </tr>\n",
              "  </thead>\n",
              "  <tbody>\n",
              "    <tr>\n",
              "      <th>0</th>\n",
              "      <td>P63167</td>\n",
              "      <td>8655</td>\n",
              "      <td>[8628263, 10198631, 12857789, 14654843, 151932...</td>\n",
              "      <td>[8628263, 10198631, 12857789, 14654843, 151932...</td>\n",
              "      <td>10198631</td>\n",
              "      <td>LC8</td>\n",
              "    </tr>\n",
              "    <tr>\n",
              "      <th>1</th>\n",
              "      <td>P63167</td>\n",
              "      <td>8655</td>\n",
              "      <td>[8628263, 10198631, 12857789, 14654843, 151932...</td>\n",
              "      <td>[8628263, 10198631, 12857789, 14654843, 151932...</td>\n",
              "      <td>11024152</td>\n",
              "      <td>LC8</td>\n",
              "    </tr>\n",
              "    <tr>\n",
              "      <th>2</th>\n",
              "      <td>P63167</td>\n",
              "      <td>8655</td>\n",
              "      <td>[8628263, 10198631, 12857789, 14654843, 151932...</td>\n",
              "      <td>[8628263, 10198631, 12857789, 14654843, 151932...</td>\n",
              "      <td>11148209</td>\n",
              "      <td>DLC8</td>\n",
              "    </tr>\n",
              "    <tr>\n",
              "      <th>3</th>\n",
              "      <td>P63167</td>\n",
              "      <td>8655</td>\n",
              "      <td>[8628263, 10198631, 12857789, 14654843, 151932...</td>\n",
              "      <td>[8628263, 10198631, 12857789, 14654843, 151932...</td>\n",
              "      <td>11513870</td>\n",
              "      <td>LC8</td>\n",
              "    </tr>\n",
              "    <tr>\n",
              "      <th>4</th>\n",
              "      <td>P63167</td>\n",
              "      <td>8655</td>\n",
              "      <td>[8628263, 10198631, 12857789, 14654843, 151932...</td>\n",
              "      <td>[8628263, 10198631, 12857789, 14654843, 151932...</td>\n",
              "      <td>11746667</td>\n",
              "      <td>LC8|LC8a</td>\n",
              "    </tr>\n",
              "  </tbody>\n",
              "</table>\n",
              "</div>"
            ],
            "text/plain": [
              "       id geneid                                               pmid  \\\n",
              "0  P63167   8655  [8628263, 10198631, 12857789, 14654843, 151932...   \n",
              "1  P63167   8655  [8628263, 10198631, 12857789, 14654843, 151932...   \n",
              "2  P63167   8655  [8628263, 10198631, 12857789, 14654843, 151932...   \n",
              "3  P63167   8655  [8628263, 10198631, 12857789, 14654843, 151932...   \n",
              "4  P63167   8655  [8628263, 10198631, 12857789, 14654843, 151932...   \n",
              "\n",
              "                                             sp_pmid pubtator_pmid  mentions  \n",
              "0  [8628263, 10198631, 12857789, 14654843, 151932...      10198631       LC8  \n",
              "1  [8628263, 10198631, 12857789, 14654843, 151932...      11024152       LC8  \n",
              "2  [8628263, 10198631, 12857789, 14654843, 151932...      11148209      DLC8  \n",
              "3  [8628263, 10198631, 12857789, 14654843, 151932...      11513870       LC8  \n",
              "4  [8628263, 10198631, 12857789, 14654843, 151932...      11746667  LC8|LC8a  "
            ]
          },
          "metadata": {
            "tags": []
          },
          "execution_count": 119
        }
      ]
    },
    {
      "cell_type": "code",
      "metadata": {
        "id": "P5im8-WkszrT",
        "colab_type": "code",
        "outputId": "80055966-1a66-4433-a739-8e34a02c36a4",
        "colab": {}
      },
      "source": [
        "merged.tail()"
      ],
      "execution_count": 0,
      "outputs": [
        {
          "output_type": "execute_result",
          "data": {
            "text/html": [
              "<div>\n",
              "<style>\n",
              "    .dataframe thead tr:only-child th {\n",
              "        text-align: right;\n",
              "    }\n",
              "\n",
              "    .dataframe thead th {\n",
              "        text-align: left;\n",
              "    }\n",
              "\n",
              "    .dataframe tbody tr th {\n",
              "        vertical-align: top;\n",
              "    }\n",
              "</style>\n",
              "<table border=\"1\" class=\"dataframe\">\n",
              "  <thead>\n",
              "    <tr style=\"text-align: right;\">\n",
              "      <th></th>\n",
              "      <th>id</th>\n",
              "      <th>geneid</th>\n",
              "      <th>pmid</th>\n",
              "      <th>sp_pmid</th>\n",
              "      <th>pubtator_pmid</th>\n",
              "      <th>mentions</th>\n",
              "    </tr>\n",
              "  </thead>\n",
              "  <tbody>\n",
              "    <tr>\n",
              "      <th>2089</th>\n",
              "      <td>P78406</td>\n",
              "      <td>8480</td>\n",
              "      <td>[9370289, 9256445, 14702039, 11780052, 1548933...</td>\n",
              "      <td>[9370289, 9256445, 14702039, 11780052, 1548933...</td>\n",
              "      <td>28815225</td>\n",
              "      <td>Rae-1</td>\n",
              "    </tr>\n",
              "    <tr>\n",
              "      <th>2090</th>\n",
              "      <td>P78406</td>\n",
              "      <td>8480</td>\n",
              "      <td>[9370289, 9256445, 14702039, 11780052, 1548933...</td>\n",
              "      <td>[9370289, 9256445, 14702039, 11780052, 1548933...</td>\n",
              "      <td>28867566</td>\n",
              "      <td>RAE1</td>\n",
              "    </tr>\n",
              "    <tr>\n",
              "      <th>2091</th>\n",
              "      <td>P78406</td>\n",
              "      <td>8480</td>\n",
              "      <td>[9370289, 9256445, 14702039, 11780052, 1548933...</td>\n",
              "      <td>[9370289, 9256445, 14702039, 11780052, 1548933...</td>\n",
              "      <td>29385718</td>\n",
              "      <td>RAE1</td>\n",
              "    </tr>\n",
              "    <tr>\n",
              "      <th>2092</th>\n",
              "      <td>P78406</td>\n",
              "      <td>8480</td>\n",
              "      <td>[9370289, 9256445, 14702039, 11780052, 1548933...</td>\n",
              "      <td>[9370289, 9256445, 14702039, 11780052, 1548933...</td>\n",
              "      <td>29757143</td>\n",
              "      <td>RAE-1</td>\n",
              "    </tr>\n",
              "    <tr>\n",
              "      <th>2093</th>\n",
              "      <td>P78406</td>\n",
              "      <td>8480</td>\n",
              "      <td>[9370289, 9256445, 14702039, 11780052, 1548933...</td>\n",
              "      <td>[9370289, 9256445, 14702039, 11780052, 1548933...</td>\n",
              "      <td>3082070</td>\n",
              "      <td>RAE-1</td>\n",
              "    </tr>\n",
              "  </tbody>\n",
              "</table>\n",
              "</div>"
            ],
            "text/plain": [
              "          id geneid                                               pmid  \\\n",
              "2089  P78406   8480  [9370289, 9256445, 14702039, 11780052, 1548933...   \n",
              "2090  P78406   8480  [9370289, 9256445, 14702039, 11780052, 1548933...   \n",
              "2091  P78406   8480  [9370289, 9256445, 14702039, 11780052, 1548933...   \n",
              "2092  P78406   8480  [9370289, 9256445, 14702039, 11780052, 1548933...   \n",
              "2093  P78406   8480  [9370289, 9256445, 14702039, 11780052, 1548933...   \n",
              "\n",
              "                                                sp_pmid pubtator_pmid mentions  \n",
              "2089  [9370289, 9256445, 14702039, 11780052, 1548933...      28815225    Rae-1  \n",
              "2090  [9370289, 9256445, 14702039, 11780052, 1548933...      28867566     RAE1  \n",
              "2091  [9370289, 9256445, 14702039, 11780052, 1548933...      29385718     RAE1  \n",
              "2092  [9370289, 9256445, 14702039, 11780052, 1548933...      29757143    RAE-1  \n",
              "2093  [9370289, 9256445, 14702039, 11780052, 1548933...       3082070    RAE-1  "
            ]
          },
          "metadata": {
            "tags": []
          },
          "execution_count": 120
        }
      ]
    },
    {
      "cell_type": "code",
      "metadata": {
        "id": "qE4x1ofiszrW",
        "colab_type": "code",
        "outputId": "c9397406-70fb-4ac5-9926-b09f97209dc1",
        "colab": {}
      },
      "source": [
        "new_refs = merged[merged.apply(lambda x: x.pubtator_pmid not in x.pmid, axis=1)].reset_index(drop=True)\n",
        "new_refs.head()"
      ],
      "execution_count": 0,
      "outputs": [
        {
          "output_type": "execute_result",
          "data": {
            "text/html": [
              "<div>\n",
              "<style>\n",
              "    .dataframe thead tr:only-child th {\n",
              "        text-align: right;\n",
              "    }\n",
              "\n",
              "    .dataframe thead th {\n",
              "        text-align: left;\n",
              "    }\n",
              "\n",
              "    .dataframe tbody tr th {\n",
              "        vertical-align: top;\n",
              "    }\n",
              "</style>\n",
              "<table border=\"1\" class=\"dataframe\">\n",
              "  <thead>\n",
              "    <tr style=\"text-align: right;\">\n",
              "      <th></th>\n",
              "      <th>id</th>\n",
              "      <th>geneid</th>\n",
              "      <th>pmid</th>\n",
              "      <th>sp_pmid</th>\n",
              "      <th>pubtator_pmid</th>\n",
              "      <th>mentions</th>\n",
              "    </tr>\n",
              "  </thead>\n",
              "  <tbody>\n",
              "    <tr>\n",
              "      <th>0</th>\n",
              "      <td>P63167</td>\n",
              "      <td>8655</td>\n",
              "      <td>[8628263, 10198631, 12857789, 14654843, 151932...</td>\n",
              "      <td>[8628263, 10198631, 12857789, 14654843, 151932...</td>\n",
              "      <td>11024152</td>\n",
              "      <td>LC8</td>\n",
              "    </tr>\n",
              "    <tr>\n",
              "      <th>1</th>\n",
              "      <td>P63167</td>\n",
              "      <td>8655</td>\n",
              "      <td>[8628263, 10198631, 12857789, 14654843, 151932...</td>\n",
              "      <td>[8628263, 10198631, 12857789, 14654843, 151932...</td>\n",
              "      <td>11148209</td>\n",
              "      <td>DLC8</td>\n",
              "    </tr>\n",
              "    <tr>\n",
              "      <th>2</th>\n",
              "      <td>P63167</td>\n",
              "      <td>8655</td>\n",
              "      <td>[8628263, 10198631, 12857789, 14654843, 151932...</td>\n",
              "      <td>[8628263, 10198631, 12857789, 14654843, 151932...</td>\n",
              "      <td>11513870</td>\n",
              "      <td>LC8</td>\n",
              "    </tr>\n",
              "    <tr>\n",
              "      <th>3</th>\n",
              "      <td>P63167</td>\n",
              "      <td>8655</td>\n",
              "      <td>[8628263, 10198631, 12857789, 14654843, 151932...</td>\n",
              "      <td>[8628263, 10198631, 12857789, 14654843, 151932...</td>\n",
              "      <td>11746667</td>\n",
              "      <td>LC8|LC8a</td>\n",
              "    </tr>\n",
              "    <tr>\n",
              "      <th>4</th>\n",
              "      <td>P63167</td>\n",
              "      <td>8655</td>\n",
              "      <td>[8628263, 10198631, 12857789, 14654843, 151932...</td>\n",
              "      <td>[8628263, 10198631, 12857789, 14654843, 151932...</td>\n",
              "      <td>11978406</td>\n",
              "      <td>Protein inhibitor of neuronal nitric oxide syn...</td>\n",
              "    </tr>\n",
              "  </tbody>\n",
              "</table>\n",
              "</div>"
            ],
            "text/plain": [
              "       id geneid                                               pmid  \\\n",
              "0  P63167   8655  [8628263, 10198631, 12857789, 14654843, 151932...   \n",
              "1  P63167   8655  [8628263, 10198631, 12857789, 14654843, 151932...   \n",
              "2  P63167   8655  [8628263, 10198631, 12857789, 14654843, 151932...   \n",
              "3  P63167   8655  [8628263, 10198631, 12857789, 14654843, 151932...   \n",
              "4  P63167   8655  [8628263, 10198631, 12857789, 14654843, 151932...   \n",
              "\n",
              "                                             sp_pmid pubtator_pmid  \\\n",
              "0  [8628263, 10198631, 12857789, 14654843, 151932...      11024152   \n",
              "1  [8628263, 10198631, 12857789, 14654843, 151932...      11148209   \n",
              "2  [8628263, 10198631, 12857789, 14654843, 151932...      11513870   \n",
              "3  [8628263, 10198631, 12857789, 14654843, 151932...      11746667   \n",
              "4  [8628263, 10198631, 12857789, 14654843, 151932...      11978406   \n",
              "\n",
              "                                            mentions  \n",
              "0                                                LC8  \n",
              "1                                               DLC8  \n",
              "2                                                LC8  \n",
              "3                                           LC8|LC8a  \n",
              "4  Protein inhibitor of neuronal nitric oxide syn...  "
            ]
          },
          "metadata": {
            "tags": []
          },
          "execution_count": 121
        }
      ]
    },
    {
      "cell_type": "code",
      "metadata": {
        "id": "DZgfgj6xszrY",
        "colab_type": "code",
        "colab": {}
      },
      "source": [
        "new_refs['len_pmid'] = new_refs['pmid'].str.len()\n",
        "new_refs['len_spmid'] = new_refs['sp_pmid'].str.len() \n"
      ],
      "execution_count": 0,
      "outputs": []
    },
    {
      "cell_type": "code",
      "metadata": {
        "id": "73NRd4TXszrb",
        "colab_type": "code",
        "colab": {}
      },
      "source": [
        "new_refs['len_pubtator'] = new_refs.groupby('geneid')['id'].transform('count')"
      ],
      "execution_count": 0,
      "outputs": []
    },
    {
      "cell_type": "code",
      "metadata": {
        "id": "d6fuCavxszrd",
        "colab_type": "code",
        "outputId": "32f6c1e5-b563-46aa-8cb4-fe1844bbc8fc",
        "colab": {}
      },
      "source": [
        "new_refs.head()"
      ],
      "execution_count": 0,
      "outputs": [
        {
          "output_type": "execute_result",
          "data": {
            "text/html": [
              "<div>\n",
              "<style>\n",
              "    .dataframe thead tr:only-child th {\n",
              "        text-align: right;\n",
              "    }\n",
              "\n",
              "    .dataframe thead th {\n",
              "        text-align: left;\n",
              "    }\n",
              "\n",
              "    .dataframe tbody tr th {\n",
              "        vertical-align: top;\n",
              "    }\n",
              "</style>\n",
              "<table border=\"1\" class=\"dataframe\">\n",
              "  <thead>\n",
              "    <tr style=\"text-align: right;\">\n",
              "      <th></th>\n",
              "      <th>id</th>\n",
              "      <th>geneid</th>\n",
              "      <th>pmid</th>\n",
              "      <th>sp_pmid</th>\n",
              "      <th>pubtator_pmid</th>\n",
              "      <th>mentions</th>\n",
              "      <th>len_pmid</th>\n",
              "      <th>len_spmid</th>\n",
              "      <th>len_pubtator</th>\n",
              "    </tr>\n",
              "  </thead>\n",
              "  <tbody>\n",
              "    <tr>\n",
              "      <th>0</th>\n",
              "      <td>P63167</td>\n",
              "      <td>8655</td>\n",
              "      <td>[8628263, 10198631, 12857789, 14654843, 151932...</td>\n",
              "      <td>[8628263, 10198631, 12857789, 14654843, 151932...</td>\n",
              "      <td>11024152</td>\n",
              "      <td>LC8</td>\n",
              "      <td>21</td>\n",
              "      <td>248</td>\n",
              "      <td>982</td>\n",
              "    </tr>\n",
              "    <tr>\n",
              "      <th>1</th>\n",
              "      <td>P63167</td>\n",
              "      <td>8655</td>\n",
              "      <td>[8628263, 10198631, 12857789, 14654843, 151932...</td>\n",
              "      <td>[8628263, 10198631, 12857789, 14654843, 151932...</td>\n",
              "      <td>11148209</td>\n",
              "      <td>DLC8</td>\n",
              "      <td>21</td>\n",
              "      <td>248</td>\n",
              "      <td>982</td>\n",
              "    </tr>\n",
              "    <tr>\n",
              "      <th>2</th>\n",
              "      <td>P63167</td>\n",
              "      <td>8655</td>\n",
              "      <td>[8628263, 10198631, 12857789, 14654843, 151932...</td>\n",
              "      <td>[8628263, 10198631, 12857789, 14654843, 151932...</td>\n",
              "      <td>11513870</td>\n",
              "      <td>LC8</td>\n",
              "      <td>21</td>\n",
              "      <td>248</td>\n",
              "      <td>982</td>\n",
              "    </tr>\n",
              "    <tr>\n",
              "      <th>3</th>\n",
              "      <td>P63167</td>\n",
              "      <td>8655</td>\n",
              "      <td>[8628263, 10198631, 12857789, 14654843, 151932...</td>\n",
              "      <td>[8628263, 10198631, 12857789, 14654843, 151932...</td>\n",
              "      <td>11746667</td>\n",
              "      <td>LC8|LC8a</td>\n",
              "      <td>21</td>\n",
              "      <td>248</td>\n",
              "      <td>982</td>\n",
              "    </tr>\n",
              "    <tr>\n",
              "      <th>4</th>\n",
              "      <td>P63167</td>\n",
              "      <td>8655</td>\n",
              "      <td>[8628263, 10198631, 12857789, 14654843, 151932...</td>\n",
              "      <td>[8628263, 10198631, 12857789, 14654843, 151932...</td>\n",
              "      <td>11978406</td>\n",
              "      <td>Protein inhibitor of neuronal nitric oxide syn...</td>\n",
              "      <td>21</td>\n",
              "      <td>248</td>\n",
              "      <td>982</td>\n",
              "    </tr>\n",
              "  </tbody>\n",
              "</table>\n",
              "</div>"
            ],
            "text/plain": [
              "       id geneid                                               pmid  \\\n",
              "0  P63167   8655  [8628263, 10198631, 12857789, 14654843, 151932...   \n",
              "1  P63167   8655  [8628263, 10198631, 12857789, 14654843, 151932...   \n",
              "2  P63167   8655  [8628263, 10198631, 12857789, 14654843, 151932...   \n",
              "3  P63167   8655  [8628263, 10198631, 12857789, 14654843, 151932...   \n",
              "4  P63167   8655  [8628263, 10198631, 12857789, 14654843, 151932...   \n",
              "\n",
              "                                             sp_pmid pubtator_pmid  \\\n",
              "0  [8628263, 10198631, 12857789, 14654843, 151932...      11024152   \n",
              "1  [8628263, 10198631, 12857789, 14654843, 151932...      11148209   \n",
              "2  [8628263, 10198631, 12857789, 14654843, 151932...      11513870   \n",
              "3  [8628263, 10198631, 12857789, 14654843, 151932...      11746667   \n",
              "4  [8628263, 10198631, 12857789, 14654843, 151932...      11978406   \n",
              "\n",
              "                                            mentions  len_pmid  len_spmid  \\\n",
              "0                                                LC8        21        248   \n",
              "1                                               DLC8        21        248   \n",
              "2                                                LC8        21        248   \n",
              "3                                           LC8|LC8a        21        248   \n",
              "4  Protein inhibitor of neuronal nitric oxide syn...        21        248   \n",
              "\n",
              "   len_pubtator  \n",
              "0           982  \n",
              "1           982  \n",
              "2           982  \n",
              "3           982  \n",
              "4           982  "
            ]
          },
          "metadata": {
            "tags": []
          },
          "execution_count": 124
        }
      ]
    },
    {
      "cell_type": "code",
      "metadata": {
        "id": "2tCFj3MQszre",
        "colab_type": "code",
        "outputId": "7ea58418-3079-41c8-9486-ad8e06f44b9a",
        "colab": {}
      },
      "source": [
        "new_refs.tail()"
      ],
      "execution_count": 0,
      "outputs": [
        {
          "output_type": "execute_result",
          "data": {
            "text/html": [
              "<div>\n",
              "<style>\n",
              "    .dataframe thead tr:only-child th {\n",
              "        text-align: right;\n",
              "    }\n",
              "\n",
              "    .dataframe thead th {\n",
              "        text-align: left;\n",
              "    }\n",
              "\n",
              "    .dataframe tbody tr th {\n",
              "        vertical-align: top;\n",
              "    }\n",
              "</style>\n",
              "<table border=\"1\" class=\"dataframe\">\n",
              "  <thead>\n",
              "    <tr style=\"text-align: right;\">\n",
              "      <th></th>\n",
              "      <th>id</th>\n",
              "      <th>geneid</th>\n",
              "      <th>pmid</th>\n",
              "      <th>sp_pmid</th>\n",
              "      <th>pubtator_pmid</th>\n",
              "      <th>mentions</th>\n",
              "      <th>len_pmid</th>\n",
              "      <th>len_spmid</th>\n",
              "      <th>len_pubtator</th>\n",
              "    </tr>\n",
              "  </thead>\n",
              "  <tbody>\n",
              "    <tr>\n",
              "      <th>2013</th>\n",
              "      <td>P78406</td>\n",
              "      <td>8480</td>\n",
              "      <td>[9370289, 9256445, 14702039, 11780052, 1548933...</td>\n",
              "      <td>[9370289, 9256445, 14702039, 11780052, 1548933...</td>\n",
              "      <td>28815225</td>\n",
              "      <td>Rae-1</td>\n",
              "      <td>11</td>\n",
              "      <td>139</td>\n",
              "      <td>77</td>\n",
              "    </tr>\n",
              "    <tr>\n",
              "      <th>2014</th>\n",
              "      <td>P78406</td>\n",
              "      <td>8480</td>\n",
              "      <td>[9370289, 9256445, 14702039, 11780052, 1548933...</td>\n",
              "      <td>[9370289, 9256445, 14702039, 11780052, 1548933...</td>\n",
              "      <td>28867566</td>\n",
              "      <td>RAE1</td>\n",
              "      <td>11</td>\n",
              "      <td>139</td>\n",
              "      <td>77</td>\n",
              "    </tr>\n",
              "    <tr>\n",
              "      <th>2015</th>\n",
              "      <td>P78406</td>\n",
              "      <td>8480</td>\n",
              "      <td>[9370289, 9256445, 14702039, 11780052, 1548933...</td>\n",
              "      <td>[9370289, 9256445, 14702039, 11780052, 1548933...</td>\n",
              "      <td>29385718</td>\n",
              "      <td>RAE1</td>\n",
              "      <td>11</td>\n",
              "      <td>139</td>\n",
              "      <td>77</td>\n",
              "    </tr>\n",
              "    <tr>\n",
              "      <th>2016</th>\n",
              "      <td>P78406</td>\n",
              "      <td>8480</td>\n",
              "      <td>[9370289, 9256445, 14702039, 11780052, 1548933...</td>\n",
              "      <td>[9370289, 9256445, 14702039, 11780052, 1548933...</td>\n",
              "      <td>29757143</td>\n",
              "      <td>RAE-1</td>\n",
              "      <td>11</td>\n",
              "      <td>139</td>\n",
              "      <td>77</td>\n",
              "    </tr>\n",
              "    <tr>\n",
              "      <th>2017</th>\n",
              "      <td>P78406</td>\n",
              "      <td>8480</td>\n",
              "      <td>[9370289, 9256445, 14702039, 11780052, 1548933...</td>\n",
              "      <td>[9370289, 9256445, 14702039, 11780052, 1548933...</td>\n",
              "      <td>3082070</td>\n",
              "      <td>RAE-1</td>\n",
              "      <td>11</td>\n",
              "      <td>139</td>\n",
              "      <td>77</td>\n",
              "    </tr>\n",
              "  </tbody>\n",
              "</table>\n",
              "</div>"
            ],
            "text/plain": [
              "          id geneid                                               pmid  \\\n",
              "2013  P78406   8480  [9370289, 9256445, 14702039, 11780052, 1548933...   \n",
              "2014  P78406   8480  [9370289, 9256445, 14702039, 11780052, 1548933...   \n",
              "2015  P78406   8480  [9370289, 9256445, 14702039, 11780052, 1548933...   \n",
              "2016  P78406   8480  [9370289, 9256445, 14702039, 11780052, 1548933...   \n",
              "2017  P78406   8480  [9370289, 9256445, 14702039, 11780052, 1548933...   \n",
              "\n",
              "                                                sp_pmid pubtator_pmid  \\\n",
              "2013  [9370289, 9256445, 14702039, 11780052, 1548933...      28815225   \n",
              "2014  [9370289, 9256445, 14702039, 11780052, 1548933...      28867566   \n",
              "2015  [9370289, 9256445, 14702039, 11780052, 1548933...      29385718   \n",
              "2016  [9370289, 9256445, 14702039, 11780052, 1548933...      29757143   \n",
              "2017  [9370289, 9256445, 14702039, 11780052, 1548933...       3082070   \n",
              "\n",
              "     mentions  len_pmid  len_spmid  len_pubtator  \n",
              "2013    Rae-1        11        139            77  \n",
              "2014     RAE1        11        139            77  \n",
              "2015     RAE1        11        139            77  \n",
              "2016    RAE-1        11        139            77  \n",
              "2017    RAE-1        11        139            77  "
            ]
          },
          "metadata": {
            "tags": []
          },
          "execution_count": 125
        }
      ]
    },
    {
      "cell_type": "code",
      "metadata": {
        "id": "QPHLlR_qszri",
        "colab_type": "code",
        "colab": {}
      },
      "source": [
        "new_refs.to_csv('list_human.tsv', sep='\\t', index=False)"
      ],
      "execution_count": 0,
      "outputs": []
    },
    {
      "cell_type": "code",
      "metadata": {
        "id": "woxs-v5Iszrm",
        "colab_type": "code",
        "colab": {}
      },
      "source": [
        ""
      ],
      "execution_count": 0,
      "outputs": []
    }
  ]
}